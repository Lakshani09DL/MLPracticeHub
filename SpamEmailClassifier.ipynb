{
 "cells": [
  {
   "cell_type": "code",
   "execution_count": 4,
   "id": "3c596071-e1a8-4c65-96ba-95591c4ff6dd",
   "metadata": {},
   "outputs": [],
   "source": [
    "import os\n",
    "\n",
    "def read_in(folder):\n",
    "    files = os.listdir(folder)\n",
    "    a_list = []\n",
    "    for a_file in files:\n",
    "        if not a_file.startswith(\".\"):\n",
    "            with open(folder + a_file, \"r\", encoding=\"ISO-8859-1\", errors=\"ignore\") as f:\n",
    "                a_list.append(f.read())\n",
    "    return a_list\n",
    "\n",
    "\n"
   ]
  },
  {
   "cell_type": "code",
   "execution_count": 7,
   "id": "d2e9e57f-aa98-4347-8b02-85a19c500298",
   "metadata": {},
   "outputs": [
    {
     "name": "stdout",
     "output_type": "stream",
     "text": [
      "1500\n",
      "Subject: dobmeos with hgh my energy level has gone up! Stukm\n",
      "Introducing\n",
      "Doctor - formulated\n",
      "Hgh\n",
      "Human growth hormone - also called hgh\n",
      "Is referred to in medical science as the master hormone. It is very plentiful\n",
      "When we are young, but near the age of twenty - one our bodies begin to produce\n",
      "Less of it. By the time we are forty nearly everyone is deficient in hgh,\n",
      "And at eighty our production has normally diminished at least 90 - 95%.\n",
      "Advantages of hgh:\n",
      "- increased muscle strength\n",
      "- loss in body fat\n",
      "- increased bone density\n",
      "- lower blood pressure\n",
      "- quickens wound healing\n",
      "- reduces cellulite\n",
      "- improved vision\n",
      "- wrinkle disappearance\n",
      "- increased skin thickness texture\n",
      "- increased energy levels\n",
      "- improved sleep and emotional stability\n",
      "- improved memory and mental alertness\n",
      "- increased sexual potency\n",
      "- resistance to common illness\n",
      "- strengthened heart muscle\n",
      "- controlled cholesterol\n",
      "- controlled mood swings\n",
      "- new hair growth and color restore\n",
      "Read\n",
      "More at this website\n",
      "Unsubscribe\n",
      "\n"
     ]
    }
   ],
   "source": [
    "\n",
    "spam_list = read_in(\"C:/Users/migar/enron1/spam/\")\n",
    "ham_list = read_in(\"C:/Users/migar/enron1/ham/\")\n",
    "print(len(spam_list))\n",
    "print(spam_list[0])\n"
   ]
  },
  {
   "cell_type": "code",
   "execution_count": 9,
   "id": "a3f38d5d-5a9e-4a75-98e1-eb060b7f0e08",
   "metadata": {},
   "outputs": [
    {
     "name": "stdout",
     "output_type": "stream",
     "text": [
      "3672\n",
      "Subject: vastar resources, inc.\n",
      "Gary, production from the high island larger block a - 1 #2 commenced on\n",
      "Saturday at 2: 00 p. M. At about 6, 500 gross. Carlos expects between 9, 500 and\n",
      "10, 000 gross for tomorrow. Vastar owns 68% of the gross production.\n",
      "George x 3 - 6992\n",
      "- - - - - - - - - - - - - - - - - - - - - - forwarded by george weissman/hou/ect on 12/13/99 10: 16\n",
      "Am - - - - - - - - - - - - - - - - - - - - - - - - - - -\n",
      "Daren j farmer\n",
      "12/10/99 10: 38 am\n",
      "To: carlos j rodriguez/hou/ect@ ect\n",
      "Cc: george weissman/hou/ect@ ect, melissa graves/hou/ect@ ect\n",
      "Subject: vastar resources, inc.\n",
      "Carlos,\n",
      "Please call linda and get everything set up.\n",
      "I' m going to estimate 4, 500 coming up tomorrow, with a 2, 000 increase each\n",
      "Following day based on my conversations with bill fischer at bmar.\n",
      "D.\n",
      "- - - - - - - - - - - - - - - - - - - - - - forwarded by daren j farmer/hou/ect on 12/10/99 10: 34\n",
      "Am - - - - - - - - - - - - - - - - - - - - - - - - - - -\n",
      "Enron north america corp.\n",
      "From: george weissman 12/10/99 10: 00 am\n",
      "To: daren j farmer/hou/ect@ ect\n",
      "Cc: gary bryan/hou/ect@ ect, melissa graves/hou/ect@ ect\n",
      "Subject: vastar resources, inc.\n",
      "Darren,\n",
      "The attached appears to be a nomination from vastar resources, inc. For the\n",
      "High island larger block a - 1 #2 (previously, erroneously referred to as the\n",
      "#1 well). Vastar now expects the well to commence production sometime\n",
      "Tomorrow. I told linda harris that we' d get her a telephone number in gas\n",
      "Control so she can provide notification of the turn - on tomorrow. Linda' s\n",
      "Numbers, for the record, are 281. 584. 3359 voice and 713. 312. 1689 fax.\n",
      "Would you please see that someone contacts linda and advises her how to\n",
      "Submit future nominations via e - mail, fax or voice? Thanks.\n",
      "George x 3 - 6992\n",
      "- - - - - - - - - - - - - - - - - - - - - - forwarded by george weissman/hou/ect on 12/10/99 09: 44\n",
      "Am - - - - - - - - - - - - - - - - - - - - - - - - - - -\n",
      "\" linda harris\" on 12/10/99 09: 38: 43 am\n",
      "To: george weissman/hou/ect@ ect\n",
      "Cc:\n",
      "Subject: hI a - 1 #2\n",
      "Effective 12 - 11 - 99\n",
      "| - - - - - - - - + - - - - - - - - - - + - - - - - - - - - - - |\n",
      "| | | |\n",
      "| mscf/d | min ftp | time |\n",
      "| | | |\n",
      "| - - - - - - - - + - - - - - - - - - - + - - - - - - - - - - - |\n",
      "| | | |\n",
      "| 4, 500 | 9, 925 | 24 hours |\n",
      "| | | |\n",
      "| - - - - - - - - + - - - - - - - - - - + - - - - - - - - - - - |\n",
      "| | | |\n",
      "| 6, 000 | 9, 908 | 24 hours |\n",
      "| | | |\n",
      "| - - - - - - - - + - - - - - - - - - - + - - - - - - - - - - - |\n",
      "| | | |\n",
      "| 8, 000 | 9, 878 | 24 hours |\n",
      "| | | |\n",
      "| - - - - - - - - + - - - - - - - - - - + - - - - - - - - - - - |\n",
      "| | | |\n",
      "| 10, 000 | 9, 840 | 24 hours |\n",
      "| | | |\n",
      "| - - - - - - - - + - - - - - - - - - - + - - - - - - - - - - - |\n",
      "| | | |\n",
      "| 12, 000 | 9, 793 | 24 hours |\n",
      "| | | |\n",
      "| - - - - - - - - + - - - - - - - - - - + - - - - - - - - - - - |\n",
      "| | | |\n",
      "| 14, 000 | 9, 738 | 24 hours |\n",
      "| | | |\n",
      "| - - - - - - - - + - - - - - - - - - - + - - - - - - - - - - - |\n",
      "| | | |\n",
      "| 16, 000 | 9, 674 | 24 hours |\n",
      "| | | |\n",
      "| - - - - - - - - + - - - - - - - - - - + - - - - - - - - - - - |\n",
      "| | | |\n",
      "| 18, 000 | 9, 602 | 24 hours |\n",
      "| | | |\n",
      "| - - - - - - - - + - - - - - - - - - - + - - - - - - - - - - - |\n",
      "| | | |\n",
      "| 20, 000 | 9, 521 | 24 hours |\n",
      "| | | |\n",
      "| - - - - - - - - + - - - - - - - - - - + - - - - - - - - - - - |\n",
      "| | | |\n",
      "| 22, 000 | 9, 431 | 24 hours |\n",
      "| | | |\n",
      "| - - - - - - - - + - - - - - - - - - - + - - - - - - - - - - - |\n",
      "| | | |\n",
      "| 24, 000 | 9, 332 | 24 hours |\n",
      "| | | |\n",
      "| - - - - - - - - + - - - - - - - - - - + - - - - - - - - - - - |\n",
      "| | | |\n",
      "| 26, 000 | 9, 224 | 24 hours |\n",
      "| | | |\n",
      "| - - - - - - - - + - - - - - - - - - - + - - - - - - - - - - - |\n",
      "| | | |\n",
      "| 28, 000 | 9, 108 | 24 hours |\n",
      "| | | |\n",
      "| - - - - - - - - + - - - - - - - - - - + - - - - - - - - - - - |\n",
      "| | | |\n",
      "| 30, 000 | 8, 982 | 24 hours |\n",
      "| | | |\n",
      "| - - - - - - - - + - - - - - - - - - - + - - - - - - - - - - - |\n",
      "| | | |\n",
      "| 32, 000 | 8, 847 | 24 hours |\n",
      "| | | |\n",
      "| - - - - - - - - + - - - - - - - - - - + - - - - - - - - - - - |\n",
      "| | | |\n",
      "| 34, 000 | 8, 703 | 24 hours |\n",
      "| | | |\n",
      "| - - - - - - - - + - - - - - - - - - - + - - - - - - - - - - - |\n",
      "| | | |\n",
      "| 36, 000 | 8, 549 | 24 hours |\n",
      "| | | |\n",
      "| - - - - - - - - + - - - - - - - - - - + - - - - - - - - - - - |\n"
     ]
    }
   ],
   "source": [
    "print(len(ham_list))\n",
    "print(ham_list[1])"
   ]
  },
  {
   "cell_type": "code",
   "execution_count": 10,
   "id": "d3e8c0c7-0bbb-4b5d-84bb-845fafa0d5c8",
   "metadata": {},
   "outputs": [
    {
     "name": "stdout",
     "output_type": "stream",
     "text": [
      "Dataset size = 5172 emails\n"
     ]
    }
   ],
   "source": [
    "import random\n",
    "\n",
    "all_emails = [(email_content, \"spam\") for email_content in spam_list]\n",
    "all_emails += [(email_content, \"ham\") for email_content in ham_list]\n",
    "random.seed(42)\n",
    "random.shuffle(all_emails)\n",
    "print (f\"Dataset size = {str(len(all_emails))} emails\")"
   ]
  },
  {
   "cell_type": "code",
   "execution_count": 16,
   "id": "2e45a70e-f723-4575-99c4-1857439e444a",
   "metadata": {},
   "outputs": [
    {
     "name": "stderr",
     "output_type": "stream",
     "text": [
      "[nltk_data] Downloading package punkt_tab to\n",
      "[nltk_data]     C:\\Users\\migar\\AppData\\Roaming\\nltk_data...\n",
      "[nltk_data]   Unzipping tokenizers\\punkt_tab.zip.\n"
     ]
    },
    {
     "name": "stdout",
     "output_type": "stream",
     "text": [
      "{'participate': True, 'in': True, 'our': True, 'new': True, 'lottery': True, 'now': True, '!': True}\n",
      "5172\n",
      "27\n",
      "53\n"
     ]
    }
   ],
   "source": [
    "import nltk\n",
    "nltk.download('punkt_tab')\n",
    "from nltk import word_tokenize\n",
    "\n",
    "def get_features(text): \n",
    "    features = {}\n",
    "    word_list = [word for word in word_tokenize(text.lower())]\n",
    "    for word in word_list:\n",
    "        features[word] = True\n",
    "    return features\n",
    "\n",
    "all_features = [(get_features(email), label) for (email, label) in all_emails]\n",
    "\n",
    "print(get_features(\"Participate In Our New Lottery NOW!\"))\n",
    "print(len(all_features))\n",
    "print(len(all_features[0][0]))\n",
    "print(len(all_features[99][0]))"
   ]
  },
  {
   "cell_type": "code",
   "execution_count": 17,
   "id": "d15dd86e-c10b-4f7c-8b1b-cfe457d2d6a7",
   "metadata": {},
   "outputs": [
    {
     "name": "stdout",
     "output_type": "stream",
     "text": [
      "Training set size = 4137 emails\n",
      "Test set size = 1035 emails\n"
     ]
    }
   ],
   "source": [
    "from nltk import NaiveBayesClassifier, classify\n",
    "\n",
    "def train(features, proportion):\n",
    "    train_size = int(len(features) * proportion)\n",
    "    # initialise the training and test sets\n",
    "    train_set, test_set = features[:train_size], features[train_size:]\n",
    "    print (f\"Training set size = {str(len(train_set))} emails\")\n",
    "    print (f\"Test set size = {str(len(test_set))} emails\")\n",
    "    # train the classifier\n",
    "    classifier = NaiveBayesClassifier.train(train_set)\n",
    "    return train_set, test_set, classifier\n",
    "\n",
    "train_set, test_set, classifier = train(all_features, 0.8)"
   ]
  },
  {
   "cell_type": "code",
   "execution_count": 18,
   "id": "e1edf1c2-b1df-4374-9951-d686eec4614e",
   "metadata": {},
   "outputs": [
    {
     "name": "stdout",
     "output_type": "stream",
     "text": [
      "Accuracy on the training set = 0.9608411892675852\n",
      "Accuracy on the test set = 0.9420289855072463\n",
      "Most Informative Features\n",
      "               forwarded = True              ham : spam   =    198.3 : 1.0\n",
      "                    2004 = True             spam : ham    =    143.8 : 1.0\n",
      "                     nom = True              ham : spam   =    126.0 : 1.0\n",
      "            prescription = True             spam : ham    =    122.9 : 1.0\n",
      "                    pain = True             spam : ham    =     98.8 : 1.0\n",
      "                  health = True             spam : ham    =     82.7 : 1.0\n",
      "                     ect = True              ham : spam   =     76.8 : 1.0\n",
      "                    2001 = True              ham : spam   =     75.8 : 1.0\n",
      "                featured = True             spam : ham    =     74.7 : 1.0\n",
      "              nomination = True              ham : spam   =     72.1 : 1.0\n",
      "             medications = True             spam : ham    =     69.9 : 1.0\n",
      "                  differ = True             spam : ham    =     66.7 : 1.0\n",
      "                creative = True             spam : ham    =     65.1 : 1.0\n",
      "             subscribers = True             spam : ham    =     65.1 : 1.0\n",
      "                   risks = True             spam : ham    =     63.4 : 1.0\n",
      "                     pro = True             spam : ham    =     60.2 : 1.0\n",
      "                  shares = True             spam : ham    =     58.6 : 1.0\n",
      "                   cheap = True             spam : ham    =     55.4 : 1.0\n",
      "                       u = True             spam : ham    =     55.4 : 1.0\n",
      "                    2005 = True             spam : ham    =     54.5 : 1.0\n",
      "                     ali = True             spam : ham    =     53.8 : 1.0\n",
      "                inherent = True             spam : ham    =     52.2 : 1.0\n",
      "            solicitation = True             spam : ham    =     52.2 : 1.0\n",
      "                deciding = True             spam : ham    =     50.6 : 1.0\n",
      "                   epson = True             spam : ham    =     50.6 : 1.0\n",
      "                    sony = True             spam : ham    =     50.6 : 1.0\n",
      "                  stocks = True             spam : ham    =     50.6 : 1.0\n",
      "                      cc = True              ham : spam   =     49.9 : 1.0\n",
      "                 advises = True             spam : ham    =     45.8 : 1.0\n",
      "                   cisco = True             spam : ham    =     45.8 : 1.0\n",
      "                thousand = True             spam : ham    =     44.8 : 1.0\n",
      "                 foresee = True             spam : ham    =     44.2 : 1.0\n",
      "                mailings = True             spam : ham    =     44.2 : 1.0\n",
      "                   adobe = True             spam : ham    =     40.0 : 1.0\n",
      "                   susan = True              ham : spam   =     39.7 : 1.0\n",
      "                      ex = True             spam : ham    =     38.1 : 1.0\n",
      "                   women = True             spam : ham    =     38.1 : 1.0\n",
      "                 beliefs = True             spam : ham    =     37.7 : 1.0\n",
      "                  proven = True             spam : ham    =     37.7 : 1.0\n",
      "                     bob = True              ham : spam   =     37.5 : 1.0\n",
      "           advertisement = True             spam : ham    =     36.1 : 1.0\n",
      "                 explode = True             spam : ham    =     36.1 : 1.0\n",
      "                 foreign = True             spam : ham    =     36.1 : 1.0\n",
      "                powerful = True             spam : ham    =     36.1 : 1.0\n",
      "                   steve = True              ham : spam   =     35.8 : 1.0\n",
      "                     713 = True              ham : spam   =     35.6 : 1.0\n",
      "                    duke = True              ham : spam   =     35.0 : 1.0\n",
      "                 comfort = True             spam : ham    =     34.5 : 1.0\n",
      "                     fat = True             spam : ham    =     34.5 : 1.0\n",
      "              medication = True             spam : ham    =     34.5 : 1.0\n"
     ]
    }
   ],
   "source": [
    "def evaluate(train_set, test_set, classifier):\n",
    "    # check how the classifier performs on the training and test sets\n",
    "    print (f\"Accuracy on the training set = {str(classify.accuracy(classifier, train_set))}\")\n",
    "    print (f\"Accuracy on the test set = {str(classify.accuracy(classifier, test_set))}\")    \n",
    "    # check which words are most informative for the classifier\n",
    "    classifier.show_most_informative_features(50)\n",
    "\n",
    "evaluate(train_set, test_set, classifier)"
   ]
  },
  {
   "cell_type": "code",
   "execution_count": null,
   "id": "7e0bf2de-f902-46c9-85c8-5eec17416670",
   "metadata": {},
   "outputs": [],
   "source": []
  }
 ],
 "metadata": {
  "kernelspec": {
   "display_name": "Python 3 (ipykernel)",
   "language": "python",
   "name": "python3"
  },
  "language_info": {
   "codemirror_mode": {
    "name": "ipython",
    "version": 3
   },
   "file_extension": ".py",
   "mimetype": "text/x-python",
   "name": "python",
   "nbconvert_exporter": "python",
   "pygments_lexer": "ipython3",
   "version": "3.12.8"
  }
 },
 "nbformat": 4,
 "nbformat_minor": 5
}
